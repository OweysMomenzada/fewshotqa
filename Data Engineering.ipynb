{
 "cells": [
  {
   "cell_type": "code",
   "execution_count": 36,
   "id": "65f80ee1",
   "metadata": {},
   "outputs": [],
   "source": [
    "path = \"./mrqa-few-shot/bioasq/bioasq-train-seed-42-num-examples-1024.jsonl\""
   ]
  },
  {
   "cell_type": "code",
   "execution_count": 37,
   "id": "1ad046e4",
   "metadata": {},
   "outputs": [],
   "source": [
    "path2 = \"./mrqa-few-shot/bioasq/dev.jsonl\""
   ]
  },
  {
   "cell_type": "code",
   "execution_count": 38,
   "id": "2bf5d01c",
   "metadata": {},
   "outputs": [],
   "source": [
    "import json \n",
    "\n",
    "with open(path2, 'r') as json_file:\n",
    "    json_list = list(json_file)\n",
    "    \n",
    "for json_str in json_list:\n",
    "    result = json.loads(json_str)"
   ]
  },
  {
   "cell_type": "markdown",
   "id": "d294a38a",
   "metadata": {},
   "source": [
    "#### First lets create the validation_set.\n",
    "\n",
    "This only needs to be done once."
   ]
  },
  {
   "cell_type": "code",
   "execution_count": 1,
   "id": "ad49ca02",
   "metadata": {},
   "outputs": [
    {
     "name": "stderr",
     "output_type": "stream",
     "text": [
      "Found cached dataset squad (/Users/oweysmomenzada/.cache/huggingface/datasets/squad/plain_text/1.0.0/d6ec3ceb99ca480ce37cdd35555d6cb2511d223b9150cce08a837ef62ffea453)\n"
     ]
    }
   ],
   "source": [
    "from datasets import load_dataset\n",
    "import pandas as pd\n",
    "import json\n",
    "\n",
    "dataset = load_dataset(\"squad\", split=\"validation\")\n",
    "val_df = pd.DataFrame(dataset)"
   ]
  },
  {
   "cell_type": "code",
   "execution_count": 2,
   "id": "eb776fcc",
   "metadata": {},
   "outputs": [
    {
     "data": {
      "text/html": [
       "<div>\n",
       "<style scoped>\n",
       "    .dataframe tbody tr th:only-of-type {\n",
       "        vertical-align: middle;\n",
       "    }\n",
       "\n",
       "    .dataframe tbody tr th {\n",
       "        vertical-align: top;\n",
       "    }\n",
       "\n",
       "    .dataframe thead th {\n",
       "        text-align: right;\n",
       "    }\n",
       "</style>\n",
       "<table border=\"1\" class=\"dataframe\">\n",
       "  <thead>\n",
       "    <tr style=\"text-align: right;\">\n",
       "      <th></th>\n",
       "      <th>id</th>\n",
       "      <th>title</th>\n",
       "      <th>context</th>\n",
       "      <th>question</th>\n",
       "      <th>answers</th>\n",
       "    </tr>\n",
       "  </thead>\n",
       "  <tbody>\n",
       "    <tr>\n",
       "      <th>0</th>\n",
       "      <td>56be4db0acb8001400a502ec</td>\n",
       "      <td>Super_Bowl_50</td>\n",
       "      <td>Super Bowl 50 was an American football game to...</td>\n",
       "      <td>Which NFL team represented the AFC at Super Bo...</td>\n",
       "      <td>{'text': ['Denver Broncos', 'Denver Broncos', ...</td>\n",
       "    </tr>\n",
       "    <tr>\n",
       "      <th>1</th>\n",
       "      <td>56be4db0acb8001400a502ed</td>\n",
       "      <td>Super_Bowl_50</td>\n",
       "      <td>Super Bowl 50 was an American football game to...</td>\n",
       "      <td>Which NFL team represented the NFC at Super Bo...</td>\n",
       "      <td>{'text': ['Carolina Panthers', 'Carolina Panth...</td>\n",
       "    </tr>\n",
       "    <tr>\n",
       "      <th>2</th>\n",
       "      <td>56be4db0acb8001400a502ee</td>\n",
       "      <td>Super_Bowl_50</td>\n",
       "      <td>Super Bowl 50 was an American football game to...</td>\n",
       "      <td>Where did Super Bowl 50 take place?</td>\n",
       "      <td>{'text': ['Santa Clara, California', 'Levi's S...</td>\n",
       "    </tr>\n",
       "    <tr>\n",
       "      <th>3</th>\n",
       "      <td>56be4db0acb8001400a502ef</td>\n",
       "      <td>Super_Bowl_50</td>\n",
       "      <td>Super Bowl 50 was an American football game to...</td>\n",
       "      <td>Which NFL team won Super Bowl 50?</td>\n",
       "      <td>{'text': ['Denver Broncos', 'Denver Broncos', ...</td>\n",
       "    </tr>\n",
       "    <tr>\n",
       "      <th>4</th>\n",
       "      <td>56be4db0acb8001400a502f0</td>\n",
       "      <td>Super_Bowl_50</td>\n",
       "      <td>Super Bowl 50 was an American football game to...</td>\n",
       "      <td>What color was used to emphasize the 50th anni...</td>\n",
       "      <td>{'text': ['gold', 'gold', 'gold'], 'answer_sta...</td>\n",
       "    </tr>\n",
       "  </tbody>\n",
       "</table>\n",
       "</div>"
      ],
      "text/plain": [
       "                         id          title  \\\n",
       "0  56be4db0acb8001400a502ec  Super_Bowl_50   \n",
       "1  56be4db0acb8001400a502ed  Super_Bowl_50   \n",
       "2  56be4db0acb8001400a502ee  Super_Bowl_50   \n",
       "3  56be4db0acb8001400a502ef  Super_Bowl_50   \n",
       "4  56be4db0acb8001400a502f0  Super_Bowl_50   \n",
       "\n",
       "                                             context  \\\n",
       "0  Super Bowl 50 was an American football game to...   \n",
       "1  Super Bowl 50 was an American football game to...   \n",
       "2  Super Bowl 50 was an American football game to...   \n",
       "3  Super Bowl 50 was an American football game to...   \n",
       "4  Super Bowl 50 was an American football game to...   \n",
       "\n",
       "                                            question  \\\n",
       "0  Which NFL team represented the AFC at Super Bo...   \n",
       "1  Which NFL team represented the NFC at Super Bo...   \n",
       "2                Where did Super Bowl 50 take place?   \n",
       "3                  Which NFL team won Super Bowl 50?   \n",
       "4  What color was used to emphasize the 50th anni...   \n",
       "\n",
       "                                             answers  \n",
       "0  {'text': ['Denver Broncos', 'Denver Broncos', ...  \n",
       "1  {'text': ['Carolina Panthers', 'Carolina Panth...  \n",
       "2  {'text': ['Santa Clara, California', 'Levi's S...  \n",
       "3  {'text': ['Denver Broncos', 'Denver Broncos', ...  \n",
       "4  {'text': ['gold', 'gold', 'gold'], 'answer_sta...  "
      ]
     },
     "execution_count": 2,
     "metadata": {},
     "output_type": "execute_result"
    }
   ],
   "source": [
    "val_df.head(5)"
   ]
  },
  {
   "cell_type": "code",
   "execution_count": 3,
   "id": "c8eaead7",
   "metadata": {},
   "outputs": [],
   "source": [
    "def create_format(df):\n",
    "    df = df.copy()\n",
    "    df.drop(columns=[\"title\"], inplace=True)\n",
    "    \n",
    "    answers = [i['text'] for i in list(df[\"answers\"])]\n",
    "    question = list(df[\"question\"])\n",
    "    context = list(df[\"context\"])\n",
    "    id_ = list(df[\"id\"])\n",
    "    \n",
    "    json_list = []\n",
    "\n",
    "    for i in range(len(context)):\n",
    "        res = {\n",
    "                \"context\":context[i],\n",
    "                \"qas\":[{\n",
    "                    \"question\":question[i],\n",
    "                    \"answers\":answers[i]\n",
    "                }]\n",
    "            }\n",
    "\n",
    "        json_list.append(res)\n",
    "\n",
    "    header = [{\"header\": {\"dataset\": \"SQuAD\", \"split\": \"dev\"}}]\n",
    "    \n",
    "    return header, json_list"
   ]
  },
  {
   "cell_type": "code",
   "execution_count": 4,
   "id": "87ab8f57",
   "metadata": {},
   "outputs": [],
   "source": [
    "header, json_list = create_format(val_df)"
   ]
  },
  {
   "cell_type": "code",
   "execution_count": 5,
   "id": "bac64375",
   "metadata": {},
   "outputs": [],
   "source": [
    "with open(\"dev.jsonl\", 'w') as f:\n",
    "    f.write(json.dumps(header) + \"\\n\")\n",
    "    \n",
    "    for item in json_list:\n",
    "        f.write(json.dumps(item) + \"\\n\")"
   ]
  },
  {
   "cell_type": "markdown",
   "id": "070a8055",
   "metadata": {},
   "source": [
    "#### Now we create the trainset\n",
    "\n",
    "Here, we will use randomseeds of size $1024$ from the SQuAD trainset. Note, that this will be our endpoint, where the user can send new trainable data. "
   ]
  },
  {
   "cell_type": "code",
   "execution_count": 6,
   "id": "5b84c959",
   "metadata": {},
   "outputs": [
    {
     "name": "stderr",
     "output_type": "stream",
     "text": [
      "Found cached dataset squad (/Users/oweysmomenzada/.cache/huggingface/datasets/squad/plain_text/1.0.0/d6ec3ceb99ca480ce37cdd35555d6cb2511d223b9150cce08a837ef62ffea453)\n"
     ]
    }
   ],
   "source": [
    "dataset = load_dataset(\"squad\", split=\"train\")\n",
    "train_df = pd.DataFrame(dataset).sample(n=1024, random_state=42)\n",
    "train_df.reset_index(inplace=True)"
   ]
  },
  {
   "cell_type": "code",
   "execution_count": 7,
   "id": "e99b5477",
   "metadata": {},
   "outputs": [
    {
     "data": {
      "text/html": [
       "<div>\n",
       "<style scoped>\n",
       "    .dataframe tbody tr th:only-of-type {\n",
       "        vertical-align: middle;\n",
       "    }\n",
       "\n",
       "    .dataframe tbody tr th {\n",
       "        vertical-align: top;\n",
       "    }\n",
       "\n",
       "    .dataframe thead th {\n",
       "        text-align: right;\n",
       "    }\n",
       "</style>\n",
       "<table border=\"1\" class=\"dataframe\">\n",
       "  <thead>\n",
       "    <tr style=\"text-align: right;\">\n",
       "      <th></th>\n",
       "      <th>index</th>\n",
       "      <th>id</th>\n",
       "      <th>title</th>\n",
       "      <th>context</th>\n",
       "      <th>question</th>\n",
       "      <th>answers</th>\n",
       "    </tr>\n",
       "  </thead>\n",
       "  <tbody>\n",
       "    <tr>\n",
       "      <th>0</th>\n",
       "      <td>9983</td>\n",
       "      <td>56de4d9ecffd8e1900b4b7e2</td>\n",
       "      <td>Institute_of_technology</td>\n",
       "      <td>The world's first institution of technology or...</td>\n",
       "      <td>What year was the Banská Akadémia founded?</td>\n",
       "      <td>{'text': ['1735'], 'answer_start': [167]}</td>\n",
       "    </tr>\n",
       "    <tr>\n",
       "      <th>1</th>\n",
       "      <td>43267</td>\n",
       "      <td>572674a05951b619008f7319</td>\n",
       "      <td>Film_speed</td>\n",
       "      <td>The standard specifies how speed ratings shoul...</td>\n",
       "      <td>What is another speed that can also be reporte...</td>\n",
       "      <td>{'text': ['SOS-based speed'], 'answer_start': ...</td>\n",
       "    </tr>\n",
       "    <tr>\n",
       "      <th>2</th>\n",
       "      <td>81021</td>\n",
       "      <td>5730bb058ab72b1400f9c72c</td>\n",
       "      <td>Sumer</td>\n",
       "      <td>The most impressive and famous of Sumerian bui...</td>\n",
       "      <td>Where were the use of advanced materials and t...</td>\n",
       "      <td>{'text': ['Sumerian temples and palaces'], 'an...</td>\n",
       "    </tr>\n",
       "    <tr>\n",
       "      <th>3</th>\n",
       "      <td>49374</td>\n",
       "      <td>572781a5f1498d1400e8fa1f</td>\n",
       "      <td>Ann_Arbor,_Michigan</td>\n",
       "      <td>Ann Arbor has a council-manager form of govern...</td>\n",
       "      <td>Who is elected every even numbered year?</td>\n",
       "      <td>{'text': ['mayor'], 'answer_start': [192]}</td>\n",
       "    </tr>\n",
       "    <tr>\n",
       "      <th>4</th>\n",
       "      <td>53414</td>\n",
       "      <td>572843ce4b864d190016485c</td>\n",
       "      <td>John_von_Neumann</td>\n",
       "      <td>Shortly before his death, when he was already ...</td>\n",
       "      <td>What was the purpose of top secret ICBM commit...</td>\n",
       "      <td>{'text': ['decide on the feasibility of buildi...</td>\n",
       "    </tr>\n",
       "  </tbody>\n",
       "</table>\n",
       "</div>"
      ],
      "text/plain": [
       "   index                        id                    title  \\\n",
       "0   9983  56de4d9ecffd8e1900b4b7e2  Institute_of_technology   \n",
       "1  43267  572674a05951b619008f7319               Film_speed   \n",
       "2  81021  5730bb058ab72b1400f9c72c                    Sumer   \n",
       "3  49374  572781a5f1498d1400e8fa1f      Ann_Arbor,_Michigan   \n",
       "4  53414  572843ce4b864d190016485c         John_von_Neumann   \n",
       "\n",
       "                                             context  \\\n",
       "0  The world's first institution of technology or...   \n",
       "1  The standard specifies how speed ratings shoul...   \n",
       "2  The most impressive and famous of Sumerian bui...   \n",
       "3  Ann Arbor has a council-manager form of govern...   \n",
       "4  Shortly before his death, when he was already ...   \n",
       "\n",
       "                                            question  \\\n",
       "0         What year was the Banská Akadémia founded?   \n",
       "1  What is another speed that can also be reporte...   \n",
       "2  Where were the use of advanced materials and t...   \n",
       "3           Who is elected every even numbered year?   \n",
       "4  What was the purpose of top secret ICBM commit...   \n",
       "\n",
       "                                             answers  \n",
       "0          {'text': ['1735'], 'answer_start': [167]}  \n",
       "1  {'text': ['SOS-based speed'], 'answer_start': ...  \n",
       "2  {'text': ['Sumerian temples and palaces'], 'an...  \n",
       "3         {'text': ['mayor'], 'answer_start': [192]}  \n",
       "4  {'text': ['decide on the feasibility of buildi...  "
      ]
     },
     "execution_count": 7,
     "metadata": {},
     "output_type": "execute_result"
    }
   ],
   "source": [
    "train_df.head(5)"
   ]
  },
  {
   "cell_type": "code",
   "execution_count": 8,
   "id": "14133211",
   "metadata": {},
   "outputs": [],
   "source": [
    "header, json_list = create_format(train_df)"
   ]
  },
  {
   "cell_type": "code",
   "execution_count": 9,
   "id": "444f2084",
   "metadata": {},
   "outputs": [],
   "source": [
    "with open(\"squad-train-seed-42-num-examples-1024.jsonl\", 'w') as f:\n",
    "    f.write(json.dumps(header) + \"\\n\")\n",
    "    \n",
    "    for item in json_list:\n",
    "        f.write(json.dumps(item) + \"\\n\")"
   ]
  },
  {
   "cell_type": "code",
   "execution_count": 19,
   "id": "a2476c27",
   "metadata": {},
   "outputs": [],
   "source": [
    "import torch\n",
    "\n",
    "# smaller sample with 124 entries\n",
    "small_train_df = pd.DataFrame(dataset).sample(n=128, random_state=42)\n",
    "small_train_df.reset_index(inplace=True)\n",
    "\n",
    "with open(\"data/data-train-seed-42-num-examples-128.jsonl\", 'w') as f:\n",
    "    f.write(json.dumps(header) + \"\\n\")\n",
    "    \n",
    "    for item in json_list:\n",
    "        f.write(json.dumps(item) + \"\\n\")"
   ]
  }
 ],
 "metadata": {
  "kernelspec": {
   "display_name": "Python 3 (ipykernel)",
   "language": "python",
   "name": "python3"
  },
  "language_info": {
   "codemirror_mode": {
    "name": "ipython",
    "version": 3
   },
   "file_extension": ".py",
   "mimetype": "text/x-python",
   "name": "python",
   "nbconvert_exporter": "python",
   "pygments_lexer": "ipython3",
   "version": "3.10.9"
  }
 },
 "nbformat": 4,
 "nbformat_minor": 5
}
